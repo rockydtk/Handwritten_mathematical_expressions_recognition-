{
 "cells": [
  {
   "cell_type": "markdown",
   "metadata": {},
   "source": [
    "# Handwritten Mathematical Expressions Recognition\n",
    "### Khiem T. Do, Phuong T.M. Chu & Santhos\n",
    "\n",
    "In this notebook, we demonstrate how to perform the calculation with our Handwritten Mathematical Expressions Recognition models."
   ]
  },
  {
   "cell_type": "code",
   "execution_count": 1,
   "metadata": {},
   "outputs": [
    {
     "name": "stderr",
     "output_type": "stream",
     "text": [
      "/home/reichu2/anaconda3/lib/python3.7/site-packages/sklearn/externals/joblib/__init__.py:15: DeprecationWarning: sklearn.externals.joblib is deprecated in 0.21 and will be removed in 0.23. Please import this functionality directly from joblib, which can be installed with: pip install joblib. If this warning is raised when loading pickled models, you may need to re-serialize those models with scikit-learn 0.21+.\n",
      "  warnings.warn(msg, category=DeprecationWarning)\n"
     ]
    }
   ],
   "source": [
    "import cv2\n",
    "import mahotas\n",
    "import imutils\n",
    "import numpy as np\n",
    "import matplotlib.pyplot as plt\n",
    "from sklearn.externals import joblib\n",
    "from skimage.feature import hog\n",
    "import tensorflow as tf\n",
    "import cv2 as cv2\n",
    "\n",
    "%matplotlib inline"
   ]
  },
  {
   "cell_type": "code",
   "execution_count": 2,
   "metadata": {},
   "outputs": [],
   "source": [
    "from skimage import feature\n",
    "\n",
    "class HOG:\n",
    "    def __init__(self, orientations=9, pixels_per_cell=(8,8), cells_per_block=(3,3), transform=False):\n",
    "        self.orientations = orientations\n",
    "        self.pixels_per_cell = pixels_per_cell\n",
    "        self.cells_per_block = cells_per_block\n",
    "        self.transform = transform\n",
    "\n",
    "    def describe(self, image):\n",
    "        hist = feature.hog(image,\n",
    "            orientations=self.orientations,\n",
    "            pixels_per_cell=self.pixels_per_cell,\n",
    "            cells_per_block=self.cells_per_block,\n",
    "            transform_sqrt=self.transform)\n",
    "        return hist"
   ]
  },
  {
   "cell_type": "code",
   "execution_count": 3,
   "metadata": {},
   "outputs": [],
   "source": [
    "def deskew(image, width):\n",
    "    (h, w) = image.shape[:2]\n",
    "    moments = cv2.moments(image)\n",
    "\n",
    "    skew = moments['mu11'] / moments['mu02']\n",
    "    M = np.float32([[1, skew, -0.5*w*skew],\n",
    "                    [0, 1, 0]])\n",
    "    image = cv2.warpAffine(image, M, (w, h), flags=cv2.WARP_INVERSE_MAP | cv2.INTER_LINEAR)\n",
    "\n",
    "    image = imutils.resize(image, width=width)\n",
    "\n",
    "    return image\n",
    "\n",
    "def center_extent(image, size):\n",
    "    (eW, eH) = size\n",
    "\n",
    "    if image.shape[1] > image.shape[0]:\n",
    "        image = imutils.resize(image, width=eW)\n",
    "    else:\n",
    "        image = imutils.resize(image, height=eH)\n",
    "\n",
    "    extent = np.zeros((eH, eW), dtype='uint8')\n",
    "    offsetX = (eW - image.shape[1]) // 2\n",
    "    offsetY = (eH - image.shape[0]) // 2\n",
    "    extent[offsetY:offsetY + image.shape[0], offsetX:offsetX+image.shape[1]] = image\n",
    "\n",
    "    CM = mahotas.center_of_mass(extent)\n",
    "    (cY, cX) = np.round(CM).astype(\"int32\")\n",
    "    (dX, dY) = ((size[0]//2) - cX, (size[1] // 2) - cY)\n",
    "    M = np.float32([[1, 0, dX], [0, 1, dY]])\n",
    "    extent = cv2.warpAffine(extent, M, size)\n",
    "\n",
    "    return extent"
   ]
  },
  {
   "cell_type": "code",
   "execution_count": 4,
   "metadata": {},
   "outputs": [
    {
     "name": "stderr",
     "output_type": "stream",
     "text": [
      "WARNING: Logging before flag parsing goes to stderr.\n",
      "W0909 14:01:29.918827 139914334095168 deprecation.py:323] From /home/reichu2/anaconda3/lib/python3.7/site-packages/tensorflow/python/ops/math_grad.py:1250: add_dispatch_support.<locals>.wrapper (from tensorflow.python.ops.array_ops) is deprecated and will be removed in a future version.\n",
      "Instructions for updating:\n",
      "Use tf.where in 2.0, which has the same broadcast rule as np.where\n"
     ]
    }
   ],
   "source": [
    "# Loading models\n",
    "## Model for handwritten digits\n",
    "model_digit = tf.keras.models.load_model('handwritten_model.h5')\n",
    "\n",
    "## Model for handwritten operators\n",
    "model_operator = joblib.load(\"model_cls_operator.pkl\")\n",
    "\n",
    "labels_name = ['*', '+', '-', 'div']"
   ]
  },
  {
   "cell_type": "code",
   "execution_count": 5,
   "metadata": {},
   "outputs": [],
   "source": [
    "hog_1 = HOG(orientations=18, pixels_per_cell=(10,10), cells_per_block=(1,1), transform=True)"
   ]
  },
  {
   "cell_type": "code",
   "execution_count": 16,
   "metadata": {},
   "outputs": [],
   "source": [
    "# Input image data\n",
    "image = cv2.imread('test.png')\n",
    "\n",
    "# Preprocess the image\n",
    "gray = cv2.cvtColor(image, cv2.COLOR_BGR2GRAY)\n",
    "\n",
    "blurred = cv2.GaussianBlur(gray, (5,5), 0)\n",
    "\n",
    "edged = cv2.adaptiveThreshold(blurred, 255, cv2.ADAPTIVE_THRESH_MEAN_C, cv2.THRESH_BINARY_INV, 11, 4)\n",
    "\n",
    "(cnts, _) = cv2.findContours(edged.copy(), cv2.RETR_EXTERNAL, cv2.CHAIN_APPROX_SIMPLE)\n",
    "\n",
    "cnts = sorted([(c, cv2.boundingRect(c)[0]) for c in  cnts], key=lambda x: x[1])"
   ]
  },
  {
   "cell_type": "code",
   "execution_count": 17,
   "metadata": {},
   "outputs": [
    {
     "data": {
      "image/png": "[encoded data removed]",
      "text/plain": [
       "<Figure size 864x576 with 1 Axes>"
      ]
     },
     "metadata": {
      "needs_background": "light"
     },
     "output_type": "display_data"
    }
   ],
   "source": [
    "plt.figure(figsize=(12,8))\n",
    "plt.imshow(imutils.opencv2matplotlib(edged))\n",
    "plt.show()"
   ]
  },
  {
   "cell_type": "code",
   "execution_count": 18,
   "metadata": {},
   "outputs": [],
   "source": [
    "def extract_hog(features):\n",
    "    list_hog_fd = []\n",
    "    for feature in features:\n",
    "        fd = hog(feature.reshape((28, 28)), orientations=9, pixels_per_cell=(14, 14), cells_per_block=(1, 1), visualize=False)\n",
    "        list_hog_fd.append(fd)\n",
    "    hog_features = np.array(list_hog_fd, 'float64')\n",
    "    return hog_features"
   ]
  },
  {
   "cell_type": "code",
   "execution_count": 19,
   "metadata": {},
   "outputs": [
    {
     "data": {
      "image/png": "[encoded data removed]",
      "text/plain": [
       "<Figure size 720x288 with 1 Axes>"
      ]
     },
     "metadata": {
      "needs_background": "light"
     },
     "output_type": "display_data"
    },
    {
     "name": "stdout",
     "output_type": "stream",
     "text": [
      "The result is: 10\n"
     ]
    }
   ],
   "source": [
    "plt.figure(figsize=(10,4))\n",
    "s=\"\"\n",
    "\n",
    "for index, (c, _) in enumerate(cnts):\n",
    "    (x, y, w, h) = cv2.boundingRect(c)\n",
    "\n",
    "    if w >=7 and h>=20:\n",
    "        roi = gray[y:y+h, x:x+w]\n",
    "        thresh = roi.copy()\n",
    "        T = mahotas.thresholding.otsu(roi)\n",
    "        thresh[thresh > T] = 255\n",
    "        thresh = cv2.bitwise_not(thresh)\n",
    "\n",
    "        thresh_digit = deskew(thresh, 28)\n",
    "        thresh_digit = center_extent(thresh_digit, (28,28))\n",
    "        \n",
    "        thresh_operator = deskew(thresh, 28)\n",
    "        thresh_operator = center_extent(thresh_operator, (28,28))\n",
    "\n",
    "\n",
    "        predictions_digit = model_digit.predict(np.expand_dims(thresh_digit, axis=0))\n",
    "        predictions_operator = model_operator.predict(extract_hog(np.reshape(thresh_operator, (1, -1))))\n",
    "        \n",
    "        digits = np.argmax(predictions_digit[0])\n",
    "\n",
    "        cv2.rectangle(image, (x,y), (x+w, y+h), (0,255,0), 2)\n",
    "         \n",
    "        \n",
    "        if index % 2 == 0:\n",
    "            cv2.putText(image, str(digits), (x,y+70), cv2.FONT_HERSHEY_SIMPLEX, 2, (0,255,0), 2)\n",
    "            s = s+str(digits)\n",
    "\n",
    "        else:\n",
    "            cv2.putText(image, labels_name[predictions_operator[0]], (x+10,y-10), cv2.FONT_HERSHEY_SIMPLEX, 2, (0,255,0), 2)\n",
    "            s = s+labels_name[predictions_operator[0]]\n",
    "            \n",
    "plt.imshow(imutils.opencv2matplotlib(image))\n",
    "plt.show()\n",
    "print(\"The result is:\",eval(s))"
   ]
  }
 ],
 "metadata": {
  "kernelspec": {
   "display_name": "Python 3",
   "language": "python",
   "name": "python3"
  },
  "language_info": {
   "codemirror_mode": {
    "name": "ipython",
    "version": 3
   },
   "file_extension": ".py",
   "mimetype": "text/x-python",
   "name": "python",
   "nbconvert_exporter": "python",
   "pygments_lexer": "ipython3",
   "version": "3.7.3"
  }
 },
 "nbformat": 4,
 "nbformat_minor": 2
}
